{
 "cells": [
  {
   "cell_type": "markdown",
   "metadata": {},
   "source": [
    "## Load page for easy debugging"
   ]
  },
  {
   "cell_type": "code",
   "execution_count": 74,
   "metadata": {},
   "outputs": [],
   "source": [
    "import requests\n",
    "from scrapy.http import HtmlResponse"
   ]
  },
  {
   "cell_type": "markdown",
   "metadata": {},
   "source": [
    "## หาลิงค์ไปหน้าย่อย"
   ]
  },
  {
   "cell_type": "code",
   "execution_count": 75,
   "metadata": {},
   "outputs": [],
   "source": [
    "temp_response = requests.get('https://www.prakard.com/viewforum.php?f=435')"
   ]
  },
  {
   "cell_type": "code",
   "execution_count": 76,
   "metadata": {},
   "outputs": [],
   "source": [
    "response = HtmlResponse(url=temp_response.url,body=temp_response.text,encoding=temp_response.encoding)"
   ]
  },
  {
   "cell_type": "code",
   "execution_count": 77,
   "metadata": {},
   "outputs": [
    {
     "data": {
      "text/plain": [
       "['./viewtopic.php?f=435&t=2911205&sid=a07e232ba6f56b4aba832b7d1f145463',\n",
       " './viewtopic.php?f=435&t=1579989&sid=a07e232ba6f56b4aba832b7d1f145463',\n",
       " './viewtopic.php?f=435&t=1713693&sid=a07e232ba6f56b4aba832b7d1f145463',\n",
       " './viewtopic.php?f=435&t=3026578&sid=a07e232ba6f56b4aba832b7d1f145463',\n",
       " './viewtopic.php?f=435&t=3025980&sid=a07e232ba6f56b4aba832b7d1f145463',\n",
       " './viewtopic.php?f=435&t=1737346&sid=a07e232ba6f56b4aba832b7d1f145463',\n",
       " './viewtopic.php?f=435&t=1395077&sid=a07e232ba6f56b4aba832b7d1f145463',\n",
       " './viewtopic.php?f=435&t=1638935&sid=a07e232ba6f56b4aba832b7d1f145463',\n",
       " './viewtopic.php?f=435&t=1742956&sid=a07e232ba6f56b4aba832b7d1f145463',\n",
       " './viewtopic.php?f=435&t=2630684&sid=a07e232ba6f56b4aba832b7d1f145463',\n",
       " './viewtopic.php?f=435&t=3016652&sid=a07e232ba6f56b4aba832b7d1f145463',\n",
       " './viewtopic.php?f=435&t=3015184&sid=a07e232ba6f56b4aba832b7d1f145463',\n",
       " './viewtopic.php?f=435&t=3012145&sid=a07e232ba6f56b4aba832b7d1f145463',\n",
       " './viewtopic.php?f=435&t=3010471&sid=a07e232ba6f56b4aba832b7d1f145463',\n",
       " './viewtopic.php?f=435&t=3005219&sid=a07e232ba6f56b4aba832b7d1f145463',\n",
       " './viewtopic.php?f=435&t=3005031&sid=a07e232ba6f56b4aba832b7d1f145463',\n",
       " './viewtopic.php?f=435&t=3005003&sid=a07e232ba6f56b4aba832b7d1f145463',\n",
       " './viewtopic.php?f=435&t=2998630&sid=a07e232ba6f56b4aba832b7d1f145463',\n",
       " './viewtopic.php?f=435&t=2991697&sid=a07e232ba6f56b4aba832b7d1f145463',\n",
       " './viewtopic.php?f=435&t=2991570&sid=a07e232ba6f56b4aba832b7d1f145463',\n",
       " './viewtopic.php?f=435&t=1591026&sid=a07e232ba6f56b4aba832b7d1f145463',\n",
       " './viewtopic.php?f=435&t=1492744&sid=a07e232ba6f56b4aba832b7d1f145463',\n",
       " './viewtopic.php?f=435&t=2990940&sid=a07e232ba6f56b4aba832b7d1f145463',\n",
       " './viewtopic.php?f=435&t=2971171&sid=a07e232ba6f56b4aba832b7d1f145463',\n",
       " './viewtopic.php?f=435&t=2957090&sid=a07e232ba6f56b4aba832b7d1f145463']"
      ]
     },
     "execution_count": 77,
     "metadata": {},
     "output_type": "execute_result"
    }
   ],
   "source": [
    "response.xpath('''//a[@class='topictitle']/@href''').extract()"
   ]
  },
  {
   "cell_type": "markdown",
   "metadata": {},
   "source": [
    "## แกะข้อมูลในหน้าย่อย"
   ]
  },
  {
   "cell_type": "code",
   "execution_count": 80,
   "metadata": {},
   "outputs": [],
   "source": [
    "temp_response = requests.get('https://www.prakard.com/viewtopic.php?f=435&t=2911205&sid=632c98c98e841d6a625c2949c8cd59e9')"
   ]
  },
  {
   "cell_type": "code",
   "execution_count": 81,
   "metadata": {},
   "outputs": [],
   "source": [
    "response = HtmlResponse(url=temp_response.url,body=temp_response.text,encoding=temp_response.encoding)"
   ]
  },
  {
   "cell_type": "code",
   "execution_count": 82,
   "metadata": {},
   "outputs": [
    {
     "data": {
      "text/plain": [
       "'ขายด่วน คอนโดลุมพินี เพลส รามอินทราหลักสี่ ติด เซ็นทรัล รามอินทรา เดินทางสะดวก'"
      ]
     },
     "execution_count": 82,
     "metadata": {},
     "output_type": "execute_result"
    }
   ],
   "source": [
    "response.xpath('''//h2[@class='topic-title']/a/text()''').extract_first()"
   ]
  },
  {
   "cell_type": "code",
   "execution_count": 83,
   "metadata": {},
   "outputs": [
    {
     "data": {
      "text/plain": [
       "['ขายด่วน !!คอนโดลุมพินี เพลส รามอินทราหลักสี่ ติดเซ็นทรัลรามอินทราเดินทางสะดวก',\n",
       " 'รายละเอียดห้อง:',\n",
       " 'พื้นที่ใช้สอย 35. ตรม.',\n",
       " '1ห้องนอน 1ห้องน้ำ 1ห้องครัว',\n",
       " 'ระเบียงหันทิศตะวันออก รับแดดเช้า',\n",
       " 'ห้องไม่ร้อน ขายพร้อมเฟอร์นิเจอร์',\n",
       " 'พร้อม แอร์2ตัว เครื่องทำน้ำอุ่น ตู้เย็น',\n",
       " 'ห้องดีมาก นัดชมห้องจริงได้นะคะ',\n",
       " 'ราคาขาย 2,390,000 บาท',\n",
       " 'สนใจเข้าชมห้องติดต่อ ',\n",
       " 'โทร: 06-2236-6936 (Bee)',\n",
       " 'Line; soulbeauty ',\n",
       " '(กรุณานัดล่วงหน้านะคะ)',\n",
       " '*บริการจัดสินเชื่อธนาคาร ให้ฟรีค่ะ*',\n",
       " 'สิ่งอำนวยความสะดวกของโครงการ:',\n",
       " '– สระว่ายน้ำ, ฟิตเนส, ซาวน่า',\n",
       " '– รปภ., กล้องวงจรปิดโครงการ, ประตู Key Card',\n",
       " '– ร้านค้า',\n",
       " '– สตรีม',\n",
       " '– ห้องสมุด',\n",
       " '– อื่นๆ (ที่จอดรถ, ระบบสายอากาศทีวีรวม รับสัญญาณ FREE TV',\n",
       " 'และช่องทีวีผ่านดาวเทียม)',\n",
       " 'รายละเอียดโครงการ:',\n",
       " 'คอนโดลุมพินี เพลส รามอินทรา-หลักสี่',\n",
       " 'LUMPINI PLACE RAMINDRA – LAKSI',\n",
       " 'อยู่โซน แจ้งวัฒนะ, หลักสี่, ดอนเมือง, บางเขน',\n",
       " 'ที่ตั้ง ถนนรามอินทรา แขวงอนุสาวรีย์ เขตบางเขน',\n",
       " 'กรุงเทพมหานคร',\n",
       " 'อยู่ติดห้างสรรพสิ้นค้าเซ็นทรัล รามอินทรา',\n",
       " 'พร้อมสิ่งอำนวยความสะดวกครบครัน',\n",
       " 'ใกล้ BTSสายสีเขียวเข้ม(กำลังก่อสร้าง) และ',\n",
       " 'แนวเส้นทางก่อสร้างโครงการรถไฟฟ้าสายสีชมพู(ในอนาคต)',\n",
       " 'ใกล้ อนุสาวรีย์หลักสี่ เทสโก้โลตัส บิ๊กซี',\n",
       " 'สน.บางเขน โรงพยาบาลเซ็นทรัลเยนเนอรัล',\n",
       " 'สนามกอล์ฟทหารบก วัดพระศรีมหาธาตุวรวิหาร',\n",
       " '**ราคาขาย 2,390,000 บาท**ราคาต่อรองได้ ',\n",
       " 'สนใจเข้าชมห้องติดต่อ ',\n",
       " 'โทร: 06-2236-6936 (Bee)',\n",
       " 'Line :soulbeauty']"
      ]
     },
     "execution_count": 83,
     "metadata": {},
     "output_type": "execute_result"
    }
   ],
   "source": [
    "response.xpath('''(//div[@class='content'])[1]/text()''').extract()"
   ]
  },
  {
   "cell_type": "code",
   "execution_count": 84,
   "metadata": {},
   "outputs": [
    {
     "data": {
      "text/plain": [
       "['2,390,000 บาท', '2,390,000 บาท']"
      ]
     },
     "execution_count": 84,
     "metadata": {},
     "output_type": "execute_result"
    }
   ],
   "source": [
    "response.xpath('''(//div[@class='content'])[1]/text()''').re(r'[0-9,]+ บาท')"
   ]
  },
  {
   "cell_type": "code",
   "execution_count": 85,
   "metadata": {},
   "outputs": [
    {
     "data": {
      "text/plain": [
       "['2,390,000', '2,390,000']"
      ]
     },
     "execution_count": 85,
     "metadata": {},
     "output_type": "execute_result"
    }
   ],
   "source": [
    "response.xpath('''(//div[@class='content'])[1]/text()''').re(r'([0-9,]+) บาท')"
   ]
  },
  {
   "cell_type": "code",
   "execution_count": 86,
   "metadata": {},
   "outputs": [
    {
     "data": {
      "text/plain": [
       "'https://www.prakard.com/viewtopic.php?f=435&t=2911205&sid=632c98c98e841d6a625c2949c8cd59e9'"
      ]
     },
     "execution_count": 86,
     "metadata": {},
     "output_type": "execute_result"
    }
   ],
   "source": [
    "response.url"
   ]
  },
  {
   "cell_type": "markdown",
   "metadata": {},
   "source": [
    "## เอาทั้งหมดมาสร้างแมงมุม"
   ]
  },
  {
   "cell_type": "code",
   "execution_count": 87,
   "metadata": {},
   "outputs": [
    {
     "name": "stdout",
     "output_type": "stream",
     "text": [
      "Overwriting ST_PrakardBot.py\n"
     ]
    }
   ],
   "source": [
    "%%writefile ST_PrakardBot.py\n",
    "import scrapy\n",
    "\n",
    "class PrakardBot(scrapy.Spider):\n",
    "    name = 'PrakardBot'\n",
    "    start_urls = [\n",
    "        'https://www.prakard.com/viewforum.php?f=435',\n",
    "    ]\n",
    "    \n",
    "    #Find Main Page Links\n",
    "    def parse(self, response):\n",
    "        for link in response.xpath('''//a[@class='topictitle']/@href''').extract():\n",
    "            yield scrapy.Request(response.urljoin(link),callback=self.aa_parse)\n",
    "        #next_page_url = response.xpath('''//li[@class='next']/a/@href''').extract_first()\n",
    "        #if next_page_url is not None:\n",
    "        #    yield scrapy.Request(response.urljoin(next_page_url))\n",
    "    \n",
    "    def aa_parse(self, response):\n",
    "        title = response.xpath('''//h2[@class='topic-title']/a/text()''').extract_first()\n",
    "        try:\n",
    "            price = response.xpath('''(//div[@class='content'])[1]/text()''').re(r'([0-9,]+) บาท')[0]\n",
    "        except:\n",
    "            price = None\n",
    "        url = response.url\n",
    "        yield {\n",
    "            'title' : title,\n",
    "            'price' : price,\n",
    "            #'url' : url,\n",
    "        }"
   ]
  },
  {
   "cell_type": "code",
   "execution_count": 88,
   "metadata": {},
   "outputs": [
    {
     "name": "stdout",
     "output_type": "stream",
     "text": [
      "2018-05-22 16:48:36 [scrapy.utils.log] INFO: Scrapy 1.5.0 started (bot: scrapybot)\n",
      "2018-05-22 16:48:36 [scrapy.utils.log] INFO: Versions: lxml 4.1.1.0, libxml2 2.9.7, cssselect 1.0.1, parsel 1.2.0, w3lib 1.18.0, Twisted 17.5.0, Python 3.6.4 | packaged by conda-forge | (default, Dec 23 2017, 16:31:06) - [GCC 4.8.2 20140120 (Red Hat 4.8.2-15)], pyOpenSSL 17.5.0 (OpenSSL 1.0.2o  27 Mar 2018), cryptography 2.1.4, Platform Linux-4.4.0-43-Microsoft-x86_64-with-debian-stretch-sid\n",
      "2018-05-22 16:48:36 [scrapy.crawler] INFO: Overridden settings: {'FEED_FORMAT': 'csv', 'FEED_URI': 'output.csv', 'SPIDER_LOADER_WARN_ONLY': True}\n",
      "2018-05-22 16:48:36 [scrapy.middleware] INFO: Enabled extensions:\n",
      "['scrapy.extensions.corestats.CoreStats',\n",
      " 'scrapy.extensions.telnet.TelnetConsole',\n",
      " 'scrapy.extensions.memusage.MemoryUsage',\n",
      " 'scrapy.extensions.feedexport.FeedExporter',\n",
      " 'scrapy.extensions.logstats.LogStats']\n",
      "2018-05-22 16:48:36 [scrapy.middleware] INFO: Enabled downloader middlewares:\n",
      "['scrapy.downloadermiddlewares.httpauth.HttpAuthMiddleware',\n",
      " 'scrapy.downloadermiddlewares.downloadtimeout.DownloadTimeoutMiddleware',\n",
      " 'scrapy.downloadermiddlewares.defaultheaders.DefaultHeadersMiddleware',\n",
      " 'scrapy.downloadermiddlewares.useragent.UserAgentMiddleware',\n",
      " 'scrapy.downloadermiddlewares.retry.RetryMiddleware',\n",
      " 'scrapy.downloadermiddlewares.redirect.MetaRefreshMiddleware',\n",
      " 'scrapy.downloadermiddlewares.httpcompression.HttpCompressionMiddleware',\n",
      " 'scrapy.downloadermiddlewares.redirect.RedirectMiddleware',\n",
      " 'scrapy.downloadermiddlewares.cookies.CookiesMiddleware',\n",
      " 'scrapy.downloadermiddlewares.httpproxy.HttpProxyMiddleware',\n",
      " 'scrapy.downloadermiddlewares.stats.DownloaderStats']\n",
      "2018-05-22 16:48:36 [scrapy.middleware] INFO: Enabled spider middlewares:\n",
      "['scrapy.spidermiddlewares.httperror.HttpErrorMiddleware',\n",
      " 'scrapy.spidermiddlewares.offsite.OffsiteMiddleware',\n",
      " 'scrapy.spidermiddlewares.referer.RefererMiddleware',\n",
      " 'scrapy.spidermiddlewares.urllength.UrlLengthMiddleware',\n",
      " 'scrapy.spidermiddlewares.depth.DepthMiddleware']\n",
      "2018-05-22 16:48:36 [scrapy.middleware] INFO: Enabled item pipelines:\n",
      "[]\n",
      "2018-05-22 16:48:36 [scrapy.core.engine] INFO: Spider opened\n",
      "2018-05-22 16:48:36 [scrapy.extensions.logstats] INFO: Crawled 0 pages (at 0 pages/min), scraped 0 items (at 0 items/min)\n",
      "2018-05-22 16:48:36 [scrapy.extensions.telnet] DEBUG: Telnet console listening on 127.0.0.1:6023\n",
      "2018-05-22 16:48:38 [scrapy.core.engine] DEBUG: Crawled (200) <GET https://www.prakard.com/viewforum.php?f=435> (referer: None)\n",
      "2018-05-22 16:48:38 [scrapy.core.engine] DEBUG: Crawled (200) <GET https://www.prakard.com/viewtopic.php?f=435&t=2911205&sid=48c522e894fd1f4944747e2591cac5fd> (referer: https://www.prakard.com/viewforum.php?f=435)\n",
      "2018-05-22 16:48:38 [scrapy.core.scraper] DEBUG: Scraped from <200 https://www.prakard.com/viewtopic.php?f=435&t=2911205&sid=48c522e894fd1f4944747e2591cac5fd>\n",
      "{'title': 'ขายด่วน คอนโดลุมพินี เพลส รามอินทราหลักสี่ ติด เซ็นทรัล รามอินทรา เดินทางสะดวก', 'price': '2,390,000'}\n",
      "2018-05-22 16:48:38 [scrapy.core.engine] DEBUG: Crawled (200) <GET https://www.prakard.com/viewtopic.php?f=435&t=2957090&sid=48c522e894fd1f4944747e2591cac5fd> (referer: https://www.prakard.com/viewforum.php?f=435)\n",
      "2018-05-22 16:48:38 [scrapy.core.scraper] DEBUG: Scraped from <200 https://www.prakard.com/viewtopic.php?f=435&t=2957090&sid=48c522e894fd1f4944747e2591cac5fd>\n",
      "{'title': 'SC022 ขายด่วน คอนโดลุมพินี เพลส รามอินทราหลักสี่ ติดเซ็นทรัลรามอินทรา', 'price': '2,400,000'}\n",
      "2018-05-22 16:48:38 [scrapy.core.engine] DEBUG: Crawled (200) <GET https://www.prakard.com/viewtopic.php?f=435&t=2971171&sid=48c522e894fd1f4944747e2591cac5fd> (referer: https://www.prakard.com/viewforum.php?f=435)\n",
      "2018-05-22 16:48:38 [scrapy.core.engine] DEBUG: Crawled (200) <GET https://www.prakard.com/viewtopic.php?f=435&t=1395077&sid=48c522e894fd1f4944747e2591cac5fd> (referer: https://www.prakard.com/viewforum.php?f=435)\n",
      "2018-05-22 16:48:38 [scrapy.core.engine] DEBUG: Crawled (200) <GET https://www.prakard.com/viewtopic.php?f=435&t=3025980&sid=48c522e894fd1f4944747e2591cac5fd> (referer: https://www.prakard.com/viewforum.php?f=435)\n",
      "2018-05-22 16:48:38 [scrapy.core.engine] DEBUG: Crawled (200) <GET https://www.prakard.com/viewtopic.php?f=435&t=1638935&sid=48c522e894fd1f4944747e2591cac5fd> (referer: https://www.prakard.com/viewforum.php?f=435)\n",
      "2018-05-22 16:48:38 [scrapy.core.engine] DEBUG: Crawled (200) <GET https://www.prakard.com/viewtopic.php?f=435&t=3026578&sid=48c522e894fd1f4944747e2591cac5fd> (referer: https://www.prakard.com/viewforum.php?f=435)\n",
      "2018-05-22 16:48:38 [scrapy.core.scraper] DEBUG: Scraped from <200 https://www.prakard.com/viewtopic.php?f=435&t=2971171&sid=48c522e894fd1f4944747e2591cac5fd>\n",
      "{'title': 'ขายด่วนราคาถูกมาก***คอนโด ลุมพินี รามอินทรา-หลักสี่ ตึก D2 ชั้น 1 ขนาด 25.49 ตรม. ใกล้เซ็นทรัลรามอินทรา สะดวกสบาย', 'price': None}\n",
      "2018-05-22 16:48:38 [scrapy.core.engine] DEBUG: Crawled (200) <GET https://www.prakard.com/viewtopic.php?f=435&t=1713693&sid=48c522e894fd1f4944747e2591cac5fd> (referer: https://www.prakard.com/viewforum.php?f=435)\n",
      "2018-05-22 16:48:38 [scrapy.core.scraper] DEBUG: Scraped from <200 https://www.prakard.com/viewtopic.php?f=435&t=1395077&sid=48c522e894fd1f4944747e2591cac5fd>\n",
      "{'title': 'ขาย คอนโด ลุมพินี เพลส รามอินทรา-หลักสี่ เฟอร์ฯ Build-in วิวสระ(AOL-C-1701891)', 'price': '3,900,000'}\n",
      "2018-05-22 16:48:38 [scrapy.core.engine] DEBUG: Crawled (200) <GET https://www.prakard.com/viewtopic.php?f=435&t=2990940&sid=48c522e894fd1f4944747e2591cac5fd> (referer: https://www.prakard.com/viewforum.php?f=435)\n",
      "2018-05-22 16:48:38 [scrapy.core.scraper] DEBUG: Scraped from <200 https://www.prakard.com/viewtopic.php?f=435&t=3025980&sid=48c522e894fd1f4944747e2591cac5fd>\n",
      "{'title': 'ให้เช่า ลุมพินี เซ็นทรัล รามอินทรา ขนาด 50 ตรม. ตึกB ชั้น3', 'price': None}\n",
      "2018-05-22 16:48:38 [scrapy.core.engine] DEBUG: Crawled (200) <GET https://www.prakard.com/viewtopic.php?f=435&t=1737346&sid=48c522e894fd1f4944747e2591cac5fd> (referer: https://www.prakard.com/viewforum.php?f=435)\n",
      "2018-05-22 16:48:38 [scrapy.core.scraper] DEBUG: Scraped from <200 https://www.prakard.com/viewtopic.php?f=435&t=1638935&sid=48c522e894fd1f4944747e2591cac5fd>\n",
      "{'title': 'ให้เช่าคอนโดลุมพินี เพลส  2 ห้องนอน พื้นที่ 65 ตร.ม. ชั้น7 วิวสนามกอลฟ์ ด้านตะวันออก ไม่โดนแดดร้อนช่วงบ่าย', 'price': None}\n",
      "2018-05-22 16:48:38 [scrapy.core.scraper] DEBUG: Scraped from <200 https://www.prakard.com/viewtopic.php?f=435&t=3026578&sid=48c522e894fd1f4944747e2591cac5fd>\n",
      "{'title': 'SC050 ขายคอนโด ห้องใหญ่ ลุมพินีเพลส รามอินทรา หลักสี่ ใกล้เซ็นทรัล', 'price': '4,250,000'}\n",
      "2018-05-22 16:48:38 [scrapy.core.scraper] DEBUG: Scraped from <200 https://www.prakard.com/viewtopic.php?f=435&t=1713693&sid=48c522e894fd1f4944747e2591cac5fd>\n",
      "{'title': 'คอนโด ลุมพินี เพลส รามอินทรา – หลักสี่ 65 ตรม 2นอน 2น้ำ  ใกล้ห้างสรรพสิ้นค้าเซ็นทรัล รามอินทรา', 'price': '25,000'}\n",
      "2018-05-22 16:48:38 [scrapy.core.engine] DEBUG: Crawled (200) <GET https://www.prakard.com/viewtopic.php?f=435&t=1591026&sid=48c522e894fd1f4944747e2591cac5fd> (referer: https://www.prakard.com/viewforum.php?f=435)\n",
      "2018-05-22 16:48:38 [scrapy.core.engine] DEBUG: Crawled (200) <GET https://www.prakard.com/viewtopic.php?f=435&t=1579989&sid=48c522e894fd1f4944747e2591cac5fd> (referer: https://www.prakard.com/viewforum.php?f=435)\n",
      "2018-05-22 16:48:38 [scrapy.core.engine] DEBUG: Crawled (200) <GET https://www.prakard.com/viewtopic.php?f=435&t=2991570&sid=48c522e894fd1f4944747e2591cac5fd> (referer: https://www.prakard.com/viewforum.php?f=435)\n",
      "2018-05-22 16:48:39 [scrapy.core.engine] DEBUG: Crawled (200) <GET https://www.prakard.com/viewtopic.php?f=435&t=1492744&sid=48c522e894fd1f4944747e2591cac5fd> (referer: https://www.prakard.com/viewforum.php?f=435)\n",
      "2018-05-22 16:48:39 [scrapy.core.engine] DEBUG: Crawled (200) <GET https://www.prakard.com/viewtopic.php?f=435&t=2998630&sid=48c522e894fd1f4944747e2591cac5fd> (referer: https://www.prakard.com/viewforum.php?f=435)\n",
      "2018-05-22 16:48:39 [scrapy.core.engine] DEBUG: Crawled (200) <GET https://www.prakard.com/viewtopic.php?f=435&t=2991697&sid=48c522e894fd1f4944747e2591cac5fd> (referer: https://www.prakard.com/viewforum.php?f=435)\n",
      "2018-05-22 16:48:39 [scrapy.core.scraper] DEBUG: Scraped from <200 https://www.prakard.com/viewtopic.php?f=435&t=2990940&sid=48c522e894fd1f4944747e2591cac5fd>\n",
      "{'title': '**ให้เช่า** คอนโด ลุมพินี เพลส รามอินทรา-หลักสี่ ห้องมุม ห้องสวย พร้อมอยู่ พื้นที่ 35 ตร.ม.1 ห้องนอนทิศE', 'price': '12,000'}\n",
      "2018-05-22 16:48:39 [scrapy.core.engine] DEBUG: Crawled (200) <GET https://www.prakard.com/viewtopic.php?f=435&t=3005031&sid=48c522e894fd1f4944747e2591cac5fd> (referer: https://www.prakard.com/viewforum.php?f=435)\n",
      "2018-05-22 16:48:39 [scrapy.core.engine] DEBUG: Crawled (200) <GET https://www.prakard.com/viewtopic.php?f=435&t=3005003&sid=48c522e894fd1f4944747e2591cac5fd> (referer: https://www.prakard.com/viewforum.php?f=435)\n",
      "2018-05-22 16:48:39 [scrapy.core.scraper] DEBUG: Scraped from <200 https://www.prakard.com/viewtopic.php?f=435&t=1737346&sid=48c522e894fd1f4944747e2591cac5fd>\n",
      "{'title': 'ให้เช่า ลุมพินี เพลส รามอินทรา-หลักสี่ ชั้น 1 อาคาร C2', 'price': '7,000'}\n",
      "2018-05-22 16:48:39 [scrapy.core.scraper] DEBUG: Scraped from <200 https://www.prakard.com/viewtopic.php?f=435&t=1591026&sid=48c522e894fd1f4944747e2591cac5fd>\n",
      "{'title': 'สัญญา เช่า คอน โด ภาษา อังกฤษ ไทย แจกฟรี', 'price': None}\n"
     ]
    },
    {
     "name": "stdout",
     "output_type": "stream",
     "text": [
      "2018-05-22 16:48:39 [scrapy.core.scraper] DEBUG: Scraped from <200 https://www.prakard.com/viewtopic.php?f=435&t=1579989&sid=48c522e894fd1f4944747e2591cac5fd>\n",
      "{'title': 'ขายด่วน คอนโดลุมพินี เพลส รามอินทรา-หลักสี่ 1ห้องนอน 35 ตรม. ตกแต่งพร้อมอยู่ Best Price', 'price': '20'}\n",
      "2018-05-22 16:48:39 [scrapy.core.scraper] DEBUG: Scraped from <200 https://www.prakard.com/viewtopic.php?f=435&t=2991570&sid=48c522e894fd1f4944747e2591cac5fd>\n",
      "{'title': '**ให้เช่าถูกด่วน** คอนโด ลุมพินี เพลส รามอินทรา-หลักสี่ ชั้น12  ทิศ E วิวcity ห้องสวย พร้อมอยู่ พื้นที่ 35 ตร.ม.', 'price': '9,000'}\n",
      "2018-05-22 16:48:39 [scrapy.core.scraper] DEBUG: Scraped from <200 https://www.prakard.com/viewtopic.php?f=435&t=1492744&sid=48c522e894fd1f4944747e2591cac5fd>\n",
      "{'title': 'ให้เช่า คอนโด ลุมพินี วิลล์ รามอินทรา-หลักสี่ พร้อมเฟอร์ (AOL-C-17061046)', 'price': '7,500'}\n",
      "2018-05-22 16:48:39 [scrapy.core.scraper] DEBUG: Scraped from <200 https://www.prakard.com/viewtopic.php?f=435&t=2998630&sid=48c522e894fd1f4944747e2591cac5fd>\n",
      "{'title': 'Lpn place รามอินทรา-หลักสี่ 35sqm ชั้น10 ให้เช่า ลดพิเศษจาก12,000 เหลือเพียง 9,000บ. เท่านั้น!!ติดต่อTel.(Bo)095-5626636', 'price': None}\n",
      "2018-05-22 16:48:39 [scrapy.core.scraper] DEBUG: Scraped from <200 https://www.prakard.com/viewtopic.php?f=435&t=2991697&sid=48c522e894fd1f4944747e2591cac5fd>\n",
      "{'title': '**ขายถูกด่วนมาก** พร้อมผู้เช่า คอนโด ลุมพินี ทาวน์ รามอินทรา-หลักสี่ พื้นที่ 25.49 ตร.ม', 'price': '1,150,000'}\n",
      "2018-05-22 16:48:39 [scrapy.core.engine] DEBUG: Crawled (200) <GET https://www.prakard.com/viewtopic.php?f=435&t=3005219&sid=48c522e894fd1f4944747e2591cac5fd> (referer: https://www.prakard.com/viewforum.php?f=435)\n",
      "2018-05-22 16:48:39 [scrapy.core.scraper] DEBUG: Scraped from <200 https://www.prakard.com/viewtopic.php?f=435&t=3005031&sid=48c522e894fd1f4944747e2591cac5fd>\n",
      "{'title': 'ปิดประกาศ 5520186402361', 'price': None}\n",
      "2018-05-22 16:48:39 [scrapy.core.engine] DEBUG: Crawled (200) <GET https://www.prakard.com/viewtopic.php?f=435&t=3010471&sid=48c522e894fd1f4944747e2591cac5fd> (referer: https://www.prakard.com/viewforum.php?f=435)\n",
      "2018-05-22 16:48:39 [scrapy.core.engine] DEBUG: Crawled (200) <GET https://www.prakard.com/viewtopic.php?f=435&t=3012145&sid=48c522e894fd1f4944747e2591cac5fd> (referer: https://www.prakard.com/viewforum.php?f=435)\n",
      "2018-05-22 16:48:39 [scrapy.core.scraper] DEBUG: Scraped from <200 https://www.prakard.com/viewtopic.php?f=435&t=3005003&sid=48c522e894fd1f4944747e2591cac5fd>\n",
      "{'title': 'ให้เช่า ลุมพินี เพลส รามอินทรา หลักสี่ ราคา  8,000 บาท', 'price': None}\n",
      "2018-05-22 16:48:39 [scrapy.core.engine] DEBUG: Crawled (200) <GET https://www.prakard.com/viewtopic.php?f=435&t=3015184&sid=48c522e894fd1f4944747e2591cac5fd> (referer: https://www.prakard.com/viewforum.php?f=435)\n",
      "2018-05-22 16:48:39 [scrapy.core.engine] DEBUG: Crawled (200) <GET https://www.prakard.com/viewtopic.php?f=435&t=3016652&sid=48c522e894fd1f4944747e2591cac5fd> (referer: https://www.prakard.com/viewforum.php?f=435)\n",
      "2018-05-22 16:48:39 [scrapy.core.scraper] DEBUG: Scraped from <200 https://www.prakard.com/viewtopic.php?f=435&t=3005219&sid=48c522e894fd1f4944747e2591cac5fd>\n",
      "{'title': 'ให้เช่า ลุมพินี เพลส รามอินทรา หลักสี่ ราคา 8,000 บาท pls contact : Bo 095-562-6636 Line id : Lovlyrabbitz', 'price': None}\n",
      "2018-05-22 16:48:39 [scrapy.core.engine] DEBUG: Crawled (200) <GET https://www.prakard.com/viewtopic.php?f=435&t=2630684&sid=48c522e894fd1f4944747e2591cac5fd> (referer: https://www.prakard.com/viewforum.php?f=435)\n",
      "2018-05-22 16:48:39 [scrapy.core.engine] DEBUG: Crawled (200) <GET https://www.prakard.com/viewtopic.php?f=435&t=1742956&sid=48c522e894fd1f4944747e2591cac5fd> (referer: https://www.prakard.com/viewforum.php?f=435)\n",
      "2018-05-22 16:48:39 [scrapy.core.scraper] DEBUG: Scraped from <200 https://www.prakard.com/viewtopic.php?f=435&t=3010471&sid=48c522e894fd1f4944747e2591cac5fd>\n",
      "{'title': '@@ @  ให้เช่าห้อง - ห้องบิวท์อิน  10,000 บาท (มีรูป)', 'price': '10,000'}\n",
      "2018-05-22 16:48:39 [scrapy.core.scraper] DEBUG: Scraped from <200 https://www.prakard.com/viewtopic.php?f=435&t=3012145&sid=48c522e894fd1f4944747e2591cac5fd>\n",
      "{'title': 'ซุปเปอร์ถูก!! ขายคอนโดลุมพินีทาวน์ รามอินทรา-หลักสี่ ขนาด 26 ตร.ม. ใกล้ Central รามอินทรา ใครช้า บอกได้เลยว่าพลาด!!', 'price': '1,200,000'}\n",
      "2018-05-22 16:48:39 [scrapy.core.scraper] DEBUG: Scraped from <200 https://www.prakard.com/viewtopic.php?f=435&t=3015184&sid=48c522e894fd1f4944747e2591cac5fd>\n",
      "{'title': 'ด่วน!! ให้เช่า คอนโด ลุมพินี เพลส รามอินทรา - หลักสี่ ห้องสวยมาก', 'price': '1,5000'}\n",
      "2018-05-22 16:48:39 [scrapy.core.scraper] DEBUG: Scraped from <200 https://www.prakard.com/viewtopic.php?f=435&t=3016652&sid=48c522e894fd1f4944747e2591cac5fd>\n",
      "{'title': 'ขาย คอนโด ลุมพินี วิลล์ รามอินทรา-หลักสี่ LUMPINI VILLE RAMINDRA – LAKSI ขนาด 30.5 ตร.ม. ชั้น 11', 'price': '1,850,000'}\n",
      "2018-05-22 16:48:39 [scrapy.core.scraper] DEBUG: Scraped from <200 https://www.prakard.com/viewtopic.php?f=435&t=2630684&sid=48c522e894fd1f4944747e2591cac5fd>\n",
      "{'title': '600 เช่า คอนโด 9000 ลุมพินี เพลส รามอินทรา-หลักสี่ Lumpini Place Raminthra-Laksi', 'price': '9,000'}\n",
      "2018-05-22 16:48:39 [scrapy.core.scraper] DEBUG: Scraped from <200 https://www.prakard.com/viewtopic.php?f=435&t=1742956&sid=48c522e894fd1f4944747e2591cac5fd>\n",
      "{'title': '551 ให้เช่า คอนโด ลุมพินี เพลส รามอินทรา-หลักสี่ ติดถนนใหญ่  ใกล้เซ็นทรัล รามอินทรา', 'price': None}\n",
      "2018-05-22 16:48:39 [scrapy.core.engine] INFO: Closing spider (finished)\n",
      "2018-05-22 16:48:39 [scrapy.extensions.feedexport] INFO: Stored csv feed (25 items) in: output.csv\n",
      "2018-05-22 16:48:39 [scrapy.statscollectors] INFO: Dumping Scrapy stats:\n",
      "{'downloader/request_bytes': 11008,\n",
      " 'downloader/request_count': 26,\n",
      " 'downloader/request_method_count/GET': 26,\n",
      " 'downloader/response_bytes': 281424,\n",
      " 'downloader/response_count': 26,\n",
      " 'downloader/response_status_count/200': 26,\n",
      " 'finish_reason': 'finished',\n",
      " 'finish_time': datetime.datetime(2018, 5, 22, 9, 48, 39, 411895),\n",
      " 'item_scraped_count': 25,\n",
      " 'log_count/DEBUG': 52,\n",
      " 'log_count/INFO': 8,\n",
      " 'memusage/max': 46034944,\n",
      " 'memusage/startup': 46030848,\n",
      " 'request_depth_max': 1,\n",
      " 'response_received_count': 26,\n",
      " 'scheduler/dequeued': 26,\n",
      " 'scheduler/dequeued/memory': 26,\n",
      " 'scheduler/enqueued': 26,\n",
      " 'scheduler/enqueued/memory': 26,\n",
      " 'start_time': datetime.datetime(2018, 5, 22, 9, 48, 36, 780552)}\n",
      "2018-05-22 16:48:39 [scrapy.core.engine] INFO: Spider closed (finished)\n"
     ]
    }
   ],
   "source": [
    "!rm output.csv;scrapy runspider ST_PrakardBot.py -o output.csv"
   ]
  },
  {
   "cell_type": "code",
   "execution_count": 89,
   "metadata": {},
   "outputs": [
    {
     "name": "stdout",
     "output_type": "stream",
     "text": [
      "title,price\r",
      "\r\n",
      "ขายด่วน คอนโดลุมพินี เพลส รามอินทราหลักสี่ ติด เซ็นทรัล รามอินทรา เดินทางสะดวก,\"2,390,000\"\r",
      "\r\n",
      "SC022 ขายด่วน คอนโดลุมพินี เพลส รามอินทราหลักสี่ ติดเซ็นทรัลรามอินทรา,\"2,400,000\"\r",
      "\r\n",
      "ขายด่วนราคาถูกมาก***คอนโด ลุมพินี รามอินทรา-หลักสี่ ตึก D2 ชั้น 1 ขนาด 25.49 ตรม. ใกล้เซ็นทรัลรามอินทรา สะดวกสบาย,\r",
      "\r\n",
      "ขาย คอนโด ลุมพินี เพลส รามอินทรา-หลักสี่ เฟอร์ฯ Build-in วิวสระ(AOL-C-1701891),\"3,900,000\"\r",
      "\r\n",
      "ให้เช่า ลุมพินี เซ็นทรัล รามอินทรา ขนาด 50 ตรม. ตึกB ชั้น3,\r",
      "\r\n",
      "ให้เช่าคอนโดลุมพินี เพลส  2 ห้องนอน พื้นที่ 65 ตร.ม. ชั้น7 วิวสนามกอลฟ์ ด้านตะวันออก ไม่โดนแดดร้อนช่วงบ่าย,\r",
      "\r\n",
      "SC050 ขายคอนโด ห้องใหญ่ ลุมพินีเพลส รามอินทรา หลักสี่ ใกล้เซ็นทรัล,\"4,250,000\"\r",
      "\r\n",
      "คอนโด ลุมพินี เพลส รามอินทรา – หลักสี่ 65 ตรม 2นอน 2น้ำ  ใกล้ห้างสรรพสิ้นค้าเซ็นทรัล รามอินทรา,\"25,000\"\r",
      "\r\n",
      "**ให้เช่า** คอนโด ลุมพินี เพลส รามอินทรา-หลักสี่ ห้องมุม ห้องสวย พร้อมอยู่ พื้นที่ 35 ตร.ม.1 ห้องนอนทิศE,\"12,000\"\r",
      "\r\n",
      "ให้เช่า ลุมพินี เพลส รามอินทรา-หลักสี่ ชั้น 1 อาคาร C2,\"7,000\"\r",
      "\r\n",
      "สัญญา เช่า คอน โด ภาษา อังกฤษ ไทย แจกฟรี,\r",
      "\r\n",
      "ขายด่วน คอนโดลุมพินี เพลส รามอินทรา-หลักสี่ 1ห้องนอน 35 ตรม. ตกแต่งพร้อมอยู่ Best Price,20\r",
      "\r\n",
      "**ให้เช่าถูกด่วน** คอนโด ลุมพินี เพลส รามอินทรา-หลักสี่ ชั้น12  ทิศ E วิวcity ห้องสวย พร้อมอยู่ พื้นที่ 35 ตร.ม.,\"9,000\"\r",
      "\r\n",
      "ให้เช่า คอนโด ลุมพินี วิลล์ รามอินทรา-หลักสี่ พร้อมเฟอร์ (AOL-C-17061046),\"7,500\"\r",
      "\r\n",
      "\"Lpn place รามอินทรา-หลักสี่ 35sqm ชั้น10 ให้เช่า ลดพิเศษจาก12,000 เหลือเพียง 9,000บ. เท่านั้น!!ติดต่อTel.(Bo)095-5626636\",\r",
      "\r\n",
      "**ขายถูกด่วนมาก** พร้อมผู้เช่า คอนโด ลุมพินี ทาวน์ รามอินทรา-หลักสี่ พื้นที่ 25.49 ตร.ม,\"1,150,000\"\r",
      "\r\n",
      "ปิดประกาศ 5520186402361,\r",
      "\r\n",
      "\"ให้เช่า ลุมพินี เพลส รามอินทรา หลักสี่ ราคา  8,000 บาท\",\r",
      "\r\n",
      "\"ให้เช่า ลุมพินี เพลส รามอินทรา หลักสี่ ราคา 8,000 บาท pls contact : Bo 095-562-6636 Line id : Lovlyrabbitz\",\r",
      "\r\n",
      "\"@@ @  ให้เช่าห้อง - ห้องบิวท์อิน  10,000 บาท (มีรูป)\",\"10,000\"\r",
      "\r\n",
      "ซุปเปอร์ถูก!! ขายคอนโดลุมพินีทาวน์ รามอินทรา-หลักสี่ ขนาด 26 ตร.ม. ใกล้ Central รามอินทรา ใครช้า บอกได้เลยว่าพลาด!!,\"1,200,000\"\r",
      "\r\n",
      "ด่วน!! ให้เช่า คอนโด ลุมพินี เพลส รามอินทรา - หลักสี่ ห้องสวยมาก,\"1,5000\"\r",
      "\r\n",
      "ขาย คอนโด ลุมพินี วิลล์ รามอินทรา-หลักสี่ LUMPINI VILLE RAMINDRA – LAKSI ขนาด 30.5 ตร.ม. ชั้น 11,\"1,850,000\"\r",
      "\r\n",
      "600 เช่า คอนโด 9000 ลุมพินี เพลส รามอินทรา-หลักสี่ Lumpini Place Raminthra-Laksi,\"9,000\"\r",
      "\r\n",
      "551 ให้เช่า คอนโด ลุมพินี เพลส รามอินทรา-หลักสี่ ติดถนนใหญ่  ใกล้เซ็นทรัล รามอินทรา,\r",
      "\r\n"
     ]
    }
   ],
   "source": [
    "!cat output.csv"
   ]
  },
  {
   "cell_type": "code",
   "execution_count": null,
   "metadata": {},
   "outputs": [],
   "source": []
  }
 ],
 "metadata": {
  "kernelspec": {
   "display_name": "Python 3",
   "language": "python",
   "name": "python3"
  },
  "language_info": {
   "codemirror_mode": {
    "name": "ipython",
    "version": 3
   },
   "file_extension": ".py",
   "mimetype": "text/x-python",
   "name": "python",
   "nbconvert_exporter": "python",
   "pygments_lexer": "ipython3",
   "version": "3.6.4"
  }
 },
 "nbformat": 4,
 "nbformat_minor": 2
}
